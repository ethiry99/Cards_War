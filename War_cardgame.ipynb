{
 "cells": [
  {
   "cell_type": "code",
   "execution_count": 142,
   "id": "07db77b3",
   "metadata": {},
   "outputs": [],
   "source": [
    "from random import seed\n",
    "from random import randint\n",
    "import pandas as pd\n",
    "from itertools import islice"
   ]
  },
  {
   "cell_type": "code",
   "execution_count": 143,
   "id": "e8bbe446",
   "metadata": {},
   "outputs": [],
   "source": [
    "deck=[]\n",
    "#hand1={\"suit\":\"\",\"rank\":'',\"powers\":'',\"random\":''}\n",
    "#hand2={\"suit\":\"\",\"rank\":'',\"powers\":'',\"random\":''}\n",
    "hand1={}\n",
    "hand2={}\n",
    "shuffled_deck=[]\n",
    "ranks = [\"deuce\", \"three\", \"four\", \"five\", \"six\",\"seven\",\"eight\",\"nine\",\"ten\",\"jack\",\"queen\",\"king\",\"ace\"] \n",
    "suits = [\"hearts\", \"diamonds\", \"spades\",\"clubs\"]\n",
    "powers =[0]\n",
    "random = []\n",
    "power = 0"
   ]
  },
  {
   "cell_type": "code",
   "execution_count": 144,
   "id": "1de0184e",
   "metadata": {},
   "outputs": [],
   "source": [
    "for rank in ranks:    \n",
    "    for suit in suits:\n",
    "            deck.append({\n",
    "            'suit':suit,\n",
    "            'rank':rank,\n",
    "            \"powers\":power,\n",
    "            'random':randint(0,1000000)\n",
    "        })\n",
    "    power +=1       "
   ]
  },
  {
   "cell_type": "code",
   "execution_count": 145,
   "id": "f73d852d",
   "metadata": {},
   "outputs": [
    {
     "name": "stdout",
     "output_type": "stream",
     "text": [
      "sanity check length: True\n",
      "52\n"
     ]
    }
   ],
   "source": [
    "print('sanity check length:',len(suits)* len(ranks)== len(deck))\n",
    "print(len(deck))"
   ]
  },
  {
   "cell_type": "code",
   "execution_count": 146,
   "id": "4171752d",
   "metadata": {},
   "outputs": [
    {
     "name": "stdout",
     "output_type": "stream",
     "text": [
      "[{'suit': 'hearts', 'rank': 'deuce', 'powers': 0, 'random': 512898}, {'suit': 'diamonds', 'rank': 'deuce', 'powers': 0, 'random': 577813}, {'suit': 'spades', 'rank': 'deuce', 'powers': 0, 'random': 35932}, {'suit': 'clubs', 'rank': 'deuce', 'powers': 0, 'random': 624082}, {'suit': 'hearts', 'rank': 'three', 'powers': 1, 'random': 342891}, {'suit': 'diamonds', 'rank': 'three', 'powers': 1, 'random': 317768}, {'suit': 'spades', 'rank': 'three', 'powers': 1, 'random': 925576}, {'suit': 'clubs', 'rank': 'three', 'powers': 1, 'random': 455355}, {'suit': 'hearts', 'rank': 'four', 'powers': 2, 'random': 146772}, {'suit': 'diamonds', 'rank': 'four', 'powers': 2, 'random': 383923}, {'suit': 'spades', 'rank': 'four', 'powers': 2, 'random': 696486}, {'suit': 'clubs', 'rank': 'four', 'powers': 2, 'random': 150987}, {'suit': 'hearts', 'rank': 'five', 'powers': 3, 'random': 783447}, {'suit': 'diamonds', 'rank': 'five', 'powers': 3, 'random': 450608}, {'suit': 'spades', 'rank': 'five', 'powers': 3, 'random': 992272}, {'suit': 'clubs', 'rank': 'five', 'powers': 3, 'random': 945423}, {'suit': 'hearts', 'rank': 'six', 'powers': 4, 'random': 591511}, {'suit': 'diamonds', 'rank': 'six', 'powers': 4, 'random': 384847}, {'suit': 'spades', 'rank': 'six', 'powers': 4, 'random': 963183}, {'suit': 'clubs', 'rank': 'six', 'powers': 4, 'random': 243504}, {'suit': 'hearts', 'rank': 'seven', 'powers': 5, 'random': 138465}, {'suit': 'diamonds', 'rank': 'seven', 'powers': 5, 'random': 347439}, {'suit': 'spades', 'rank': 'seven', 'powers': 5, 'random': 850872}, {'suit': 'clubs', 'rank': 'seven', 'powers': 5, 'random': 271827}, {'suit': 'hearts', 'rank': 'eight', 'powers': 6, 'random': 992247}, {'suit': 'diamonds', 'rank': 'eight', 'powers': 6, 'random': 87824}, {'suit': 'spades', 'rank': 'eight', 'powers': 6, 'random': 827352}, {'suit': 'clubs', 'rank': 'eight', 'powers': 6, 'random': 30886}, {'suit': 'hearts', 'rank': 'nine', 'powers': 7, 'random': 22758}, {'suit': 'diamonds', 'rank': 'nine', 'powers': 7, 'random': 976825}, {'suit': 'spades', 'rank': 'nine', 'powers': 7, 'random': 987700}, {'suit': 'clubs', 'rank': 'nine', 'powers': 7, 'random': 651483}, {'suit': 'hearts', 'rank': 'ten', 'powers': 8, 'random': 152402}, {'suit': 'diamonds', 'rank': 'ten', 'powers': 8, 'random': 376147}, {'suit': 'spades', 'rank': 'ten', 'powers': 8, 'random': 853080}, {'suit': 'clubs', 'rank': 'ten', 'powers': 8, 'random': 760412}, {'suit': 'hearts', 'rank': 'jack', 'powers': 9, 'random': 196818}, {'suit': 'diamonds', 'rank': 'jack', 'powers': 9, 'random': 73642}, {'suit': 'spades', 'rank': 'jack', 'powers': 9, 'random': 738831}, {'suit': 'clubs', 'rank': 'jack', 'powers': 9, 'random': 792472}, {'suit': 'hearts', 'rank': 'queen', 'powers': 10, 'random': 897512}, {'suit': 'diamonds', 'rank': 'queen', 'powers': 10, 'random': 653853}, {'suit': 'spades', 'rank': 'queen', 'powers': 10, 'random': 106585}, {'suit': 'clubs', 'rank': 'queen', 'powers': 10, 'random': 496283}, {'suit': 'hearts', 'rank': 'king', 'powers': 11, 'random': 170818}, {'suit': 'diamonds', 'rank': 'king', 'powers': 11, 'random': 842343}, {'suit': 'spades', 'rank': 'king', 'powers': 11, 'random': 251937}, {'suit': 'clubs', 'rank': 'king', 'powers': 11, 'random': 765682}, {'suit': 'hearts', 'rank': 'ace', 'powers': 12, 'random': 491074}, {'suit': 'diamonds', 'rank': 'ace', 'powers': 12, 'random': 27548}, {'suit': 'spades', 'rank': 'ace', 'powers': 12, 'random': 295508}, {'suit': 'clubs', 'rank': 'ace', 'powers': 12, 'random': 899115}]\n"
     ]
    }
   ],
   "source": [
    "print(deck)\n"
   ]
  },
  {
   "cell_type": "code",
   "execution_count": 147,
   "id": "2a623554",
   "metadata": {},
   "outputs": [],
   "source": [
    "shuffled_cards=sorted(deck, key=lambda i:i[\"random\"])"
   ]
  },
  {
   "cell_type": "code",
   "execution_count": 148,
   "id": "f302303a",
   "metadata": {},
   "outputs": [
    {
     "name": "stdout",
     "output_type": "stream",
     "text": [
      "[{'suit': 'hearts', 'rank': 'nine', 'powers': 7, 'random': 22758}, {'suit': 'diamonds', 'rank': 'ace', 'powers': 12, 'random': 27548}, {'suit': 'clubs', 'rank': 'eight', 'powers': 6, 'random': 30886}, {'suit': 'spades', 'rank': 'deuce', 'powers': 0, 'random': 35932}, {'suit': 'diamonds', 'rank': 'jack', 'powers': 9, 'random': 73642}, {'suit': 'diamonds', 'rank': 'eight', 'powers': 6, 'random': 87824}, {'suit': 'spades', 'rank': 'queen', 'powers': 10, 'random': 106585}, {'suit': 'hearts', 'rank': 'seven', 'powers': 5, 'random': 138465}, {'suit': 'hearts', 'rank': 'four', 'powers': 2, 'random': 146772}, {'suit': 'clubs', 'rank': 'four', 'powers': 2, 'random': 150987}, {'suit': 'hearts', 'rank': 'ten', 'powers': 8, 'random': 152402}, {'suit': 'hearts', 'rank': 'king', 'powers': 11, 'random': 170818}, {'suit': 'hearts', 'rank': 'jack', 'powers': 9, 'random': 196818}, {'suit': 'clubs', 'rank': 'six', 'powers': 4, 'random': 243504}, {'suit': 'spades', 'rank': 'king', 'powers': 11, 'random': 251937}, {'suit': 'clubs', 'rank': 'seven', 'powers': 5, 'random': 271827}, {'suit': 'spades', 'rank': 'ace', 'powers': 12, 'random': 295508}, {'suit': 'diamonds', 'rank': 'three', 'powers': 1, 'random': 317768}, {'suit': 'hearts', 'rank': 'three', 'powers': 1, 'random': 342891}, {'suit': 'diamonds', 'rank': 'seven', 'powers': 5, 'random': 347439}, {'suit': 'diamonds', 'rank': 'ten', 'powers': 8, 'random': 376147}, {'suit': 'diamonds', 'rank': 'four', 'powers': 2, 'random': 383923}, {'suit': 'diamonds', 'rank': 'six', 'powers': 4, 'random': 384847}, {'suit': 'diamonds', 'rank': 'five', 'powers': 3, 'random': 450608}, {'suit': 'clubs', 'rank': 'three', 'powers': 1, 'random': 455355}, {'suit': 'hearts', 'rank': 'ace', 'powers': 12, 'random': 491074}, {'suit': 'clubs', 'rank': 'queen', 'powers': 10, 'random': 496283}, {'suit': 'hearts', 'rank': 'deuce', 'powers': 0, 'random': 512898}, {'suit': 'diamonds', 'rank': 'deuce', 'powers': 0, 'random': 577813}, {'suit': 'hearts', 'rank': 'six', 'powers': 4, 'random': 591511}, {'suit': 'clubs', 'rank': 'deuce', 'powers': 0, 'random': 624082}, {'suit': 'clubs', 'rank': 'nine', 'powers': 7, 'random': 651483}, {'suit': 'diamonds', 'rank': 'queen', 'powers': 10, 'random': 653853}, {'suit': 'spades', 'rank': 'four', 'powers': 2, 'random': 696486}, {'suit': 'spades', 'rank': 'jack', 'powers': 9, 'random': 738831}, {'suit': 'clubs', 'rank': 'ten', 'powers': 8, 'random': 760412}, {'suit': 'clubs', 'rank': 'king', 'powers': 11, 'random': 765682}, {'suit': 'hearts', 'rank': 'five', 'powers': 3, 'random': 783447}, {'suit': 'clubs', 'rank': 'jack', 'powers': 9, 'random': 792472}, {'suit': 'spades', 'rank': 'eight', 'powers': 6, 'random': 827352}, {'suit': 'diamonds', 'rank': 'king', 'powers': 11, 'random': 842343}, {'suit': 'spades', 'rank': 'seven', 'powers': 5, 'random': 850872}, {'suit': 'spades', 'rank': 'ten', 'powers': 8, 'random': 853080}, {'suit': 'hearts', 'rank': 'queen', 'powers': 10, 'random': 897512}, {'suit': 'clubs', 'rank': 'ace', 'powers': 12, 'random': 899115}, {'suit': 'spades', 'rank': 'three', 'powers': 1, 'random': 925576}, {'suit': 'clubs', 'rank': 'five', 'powers': 3, 'random': 945423}, {'suit': 'spades', 'rank': 'six', 'powers': 4, 'random': 963183}, {'suit': 'diamonds', 'rank': 'nine', 'powers': 7, 'random': 976825}, {'suit': 'spades', 'rank': 'nine', 'powers': 7, 'random': 987700}, {'suit': 'hearts', 'rank': 'eight', 'powers': 6, 'random': 992247}, {'suit': 'spades', 'rank': 'five', 'powers': 3, 'random': 992272}]\n"
     ]
    }
   ],
   "source": [
    "print(shuffled_cards)"
   ]
  },
  {
   "cell_type": "code",
   "execution_count": 149,
   "id": "12ac894f",
   "metadata": {
    "scrolled": true
   },
   "outputs": [],
   "source": [
    "j=0\n",
    "for i in range(0,51,2):\n",
    "    hand1[j]=shuffled_cards[i]\n",
    "    hand2[j]=shuffled_cards[i+1]\n",
    "    #print(i)\n",
    "    #print(j)\n",
    "    j=j+1"
   ]
  },
  {
   "cell_type": "code",
   "execution_count": 150,
   "id": "4d977e4a",
   "metadata": {},
   "outputs": [
    {
     "name": "stdout",
     "output_type": "stream",
     "text": [
      "{0: {'suit': 'hearts', 'rank': 'nine', 'powers': 7, 'random': 22758}, 1: {'suit': 'clubs', 'rank': 'eight', 'powers': 6, 'random': 30886}, 2: {'suit': 'diamonds', 'rank': 'jack', 'powers': 9, 'random': 73642}, 3: {'suit': 'spades', 'rank': 'queen', 'powers': 10, 'random': 106585}, 4: {'suit': 'hearts', 'rank': 'four', 'powers': 2, 'random': 146772}, 5: {'suit': 'hearts', 'rank': 'ten', 'powers': 8, 'random': 152402}, 6: {'suit': 'hearts', 'rank': 'jack', 'powers': 9, 'random': 196818}, 7: {'suit': 'spades', 'rank': 'king', 'powers': 11, 'random': 251937}, 8: {'suit': 'spades', 'rank': 'ace', 'powers': 12, 'random': 295508}, 9: {'suit': 'hearts', 'rank': 'three', 'powers': 1, 'random': 342891}, 10: {'suit': 'diamonds', 'rank': 'ten', 'powers': 8, 'random': 376147}, 11: {'suit': 'diamonds', 'rank': 'six', 'powers': 4, 'random': 384847}, 12: {'suit': 'clubs', 'rank': 'three', 'powers': 1, 'random': 455355}, 13: {'suit': 'clubs', 'rank': 'queen', 'powers': 10, 'random': 496283}, 14: {'suit': 'diamonds', 'rank': 'deuce', 'powers': 0, 'random': 577813}, 15: {'suit': 'clubs', 'rank': 'deuce', 'powers': 0, 'random': 624082}, 16: {'suit': 'diamonds', 'rank': 'queen', 'powers': 10, 'random': 653853}, 17: {'suit': 'spades', 'rank': 'jack', 'powers': 9, 'random': 738831}, 18: {'suit': 'clubs', 'rank': 'king', 'powers': 11, 'random': 765682}, 19: {'suit': 'clubs', 'rank': 'jack', 'powers': 9, 'random': 792472}, 20: {'suit': 'diamonds', 'rank': 'king', 'powers': 11, 'random': 842343}, 21: {'suit': 'spades', 'rank': 'ten', 'powers': 8, 'random': 853080}, 22: {'suit': 'clubs', 'rank': 'ace', 'powers': 12, 'random': 899115}, 23: {'suit': 'clubs', 'rank': 'five', 'powers': 3, 'random': 945423}, 24: {'suit': 'diamonds', 'rank': 'nine', 'powers': 7, 'random': 976825}, 25: {'suit': 'hearts', 'rank': 'eight', 'powers': 6, 'random': 992247}}\n",
      "{0: {'suit': 'diamonds', 'rank': 'ace', 'powers': 12, 'random': 27548}, 1: {'suit': 'spades', 'rank': 'deuce', 'powers': 0, 'random': 35932}, 2: {'suit': 'diamonds', 'rank': 'eight', 'powers': 6, 'random': 87824}, 3: {'suit': 'hearts', 'rank': 'seven', 'powers': 5, 'random': 138465}, 4: {'suit': 'clubs', 'rank': 'four', 'powers': 2, 'random': 150987}, 5: {'suit': 'hearts', 'rank': 'king', 'powers': 11, 'random': 170818}, 6: {'suit': 'clubs', 'rank': 'six', 'powers': 4, 'random': 243504}, 7: {'suit': 'clubs', 'rank': 'seven', 'powers': 5, 'random': 271827}, 8: {'suit': 'diamonds', 'rank': 'three', 'powers': 1, 'random': 317768}, 9: {'suit': 'diamonds', 'rank': 'seven', 'powers': 5, 'random': 347439}, 10: {'suit': 'diamonds', 'rank': 'four', 'powers': 2, 'random': 383923}, 11: {'suit': 'diamonds', 'rank': 'five', 'powers': 3, 'random': 450608}, 12: {'suit': 'hearts', 'rank': 'ace', 'powers': 12, 'random': 491074}, 13: {'suit': 'hearts', 'rank': 'deuce', 'powers': 0, 'random': 512898}, 14: {'suit': 'hearts', 'rank': 'six', 'powers': 4, 'random': 591511}, 15: {'suit': 'clubs', 'rank': 'nine', 'powers': 7, 'random': 651483}, 16: {'suit': 'spades', 'rank': 'four', 'powers': 2, 'random': 696486}, 17: {'suit': 'clubs', 'rank': 'ten', 'powers': 8, 'random': 760412}, 18: {'suit': 'hearts', 'rank': 'five', 'powers': 3, 'random': 783447}, 19: {'suit': 'spades', 'rank': 'eight', 'powers': 6, 'random': 827352}, 20: {'suit': 'spades', 'rank': 'seven', 'powers': 5, 'random': 850872}, 21: {'suit': 'hearts', 'rank': 'queen', 'powers': 10, 'random': 897512}, 22: {'suit': 'spades', 'rank': 'three', 'powers': 1, 'random': 925576}, 23: {'suit': 'spades', 'rank': 'six', 'powers': 4, 'random': 963183}, 24: {'suit': 'spades', 'rank': 'nine', 'powers': 7, 'random': 987700}, 25: {'suit': 'spades', 'rank': 'five', 'powers': 3, 'random': 992272}}\n"
     ]
    }
   ],
   "source": [
    "print(hand1)\n",
    "print(hand2)"
   ]
  },
  {
   "cell_type": "code",
   "execution_count": null,
   "id": "3422813e",
   "metadata": {},
   "outputs": [],
   "source": []
  },
  {
   "cell_type": "code",
   "execution_count": null,
   "id": "fcbb18b7",
   "metadata": {},
   "outputs": [],
   "source": []
  }
 ],
 "metadata": {
  "kernelspec": {
   "display_name": "PythonData",
   "language": "python",
   "name": "pythondata"
  },
  "language_info": {
   "codemirror_mode": {
    "name": "ipython",
    "version": 3
   },
   "file_extension": ".py",
   "mimetype": "text/x-python",
   "name": "python",
   "nbconvert_exporter": "python",
   "pygments_lexer": "ipython3",
   "version": "3.7.10"
  }
 },
 "nbformat": 4,
 "nbformat_minor": 5
}
